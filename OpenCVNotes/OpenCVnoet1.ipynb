{
 "cells": [
  {
   "cell_type": "markdown",
   "id": "0c2f9672",
   "metadata": {},
   "source": [
    "## 实际上OpenCV已经可以实现很多图形上面的操作\n",
    "* 但是这里主要是将OpenCV用于提取流数据"
   ]
  },
  {
   "cell_type": "code",
   "execution_count": null,
   "id": "875eabfc",
   "metadata": {},
   "outputs": [],
   "source": []
  }
 ],
 "metadata": {
  "kernelspec": {
   "display_name": "Python [conda env:py38] *",
   "language": "python",
   "name": "conda-env-py38-py"
  },
  "language_info": {
   "codemirror_mode": {
    "name": "ipython",
    "version": 3
   },
   "file_extension": ".py",
   "mimetype": "text/x-python",
   "name": "python",
   "nbconvert_exporter": "python",
   "pygments_lexer": "ipython3",
   "version": "3.8.13"
  }
 },
 "nbformat": 4,
 "nbformat_minor": 5
}
