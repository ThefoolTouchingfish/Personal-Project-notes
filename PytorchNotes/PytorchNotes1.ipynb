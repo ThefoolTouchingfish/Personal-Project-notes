{
 "cells": [
  {
   "cell_type": "markdown",
   "id": "5ca11e92",
   "metadata": {},
   "source": [
    "## 分享一个个人的RNN多对一解决思路\n",
    "* 使用Pytorch制作的小玩具大多是图像识别，NLP之中的文字识别\n",
    "* 进一步可以使用RNN进行图像识别\n",
    "* 实际上，通过重载Pytorchd 的Dataset类可以实现更多的数据输入\n",
    "* 比如RNN存在一对一，一对多，多对一，多对多的类型\n",
    "* 在这里我分享一个我个人的RNN多对一方案。这个方案通过.csv文件实现数据的存储与读取"
   ]
  },
  {
   "cell_type": "code",
   "execution_count": null,
   "id": "002a613c",
   "metadata": {},
   "outputs": [],
   "source": [
    "class myDataset(Dataset):\n",
    "    def __init__(self, data_dir):\n",
    "        self.file_name = os.listdir(data_dir)\n",
    "        self.data_path = []\n",
    "        self.label_arr = []\n",
    "        for index in range(len(self.file_name)):\n",
    "            self.data_path.append(os.path.join(data_dir, self.file_name[index]))\n",
    "            \n",
    "            a = int(self.file_name[index].split(\".\")[0].split(\"_\")[0])\n",
    "            self.label_arr.append(a)\n",
    "    def __len__(self):\n",
    "        return len(self.file_name)\n",
    "    def __getitem__(self, index):\n",
    "        data = pd.read_csv(self.data_path[index], header=None)\n",
    "        data = np.array(data)\n",
    "        data = data[1]\n",
    "        data = data[1:]\n",
    "        data = data.reshape(1,34,90)\n",
    "        data = torch.tensor(data)\n",
    "        \n",
    "        label = self.label_arr[index]\n",
    "        \n",
    "        \n",
    "\n",
    "        return (data,label)"
   ]
  }
 ],
 "metadata": {
  "kernelspec": {
   "display_name": "Python [conda env:py38] *",
   "language": "python",
   "name": "conda-env-py38-py"
  },
  "language_info": {
   "codemirror_mode": {
    "name": "ipython",
    "version": 3
   },
   "file_extension": ".py",
   "mimetype": "text/x-python",
   "name": "python",
   "nbconvert_exporter": "python",
   "pygments_lexer": "ipython3",
   "version": "3.8.13"
  }
 },
 "nbformat": 4,
 "nbformat_minor": 5
}
