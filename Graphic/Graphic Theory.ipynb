{
 "cells": [
  {
   "cell_type": "markdown",
   "id": "1d563cb2",
   "metadata": {},
   "source": [
    "## Graphic theory之中的Look at 矩阵计算\n",
    "* 1. 第一个版本。可以通过这个矩阵建立虚拟摄像机。\n",
    "* Reference: https://learnopengl.com/Getting-started/Camera"
   ]
  },
  {
   "cell_type": "code",
   "execution_count": null,
   "id": "43715929",
   "metadata": {},
   "outputs": [],
   "source": [
    "def CreateLookAt_Change(the_axis_list_ori):\n",
    "    the_axis_list_ori_1 = the_axis_list_ori.copy()\n",
    "    the_axis_list_ori_1 = np.array(the_axis_list_ori_1)\n",
    "    the_axis_list_ori_1 = the_axis_list_ori_1.reshape(4,3)\n",
    "    point_11 = the_axis_list_ori_1[0]\n",
    "    point_12 = the_axis_list_ori_1[1]\n",
    "    point_23 = the_axis_list_ori_1[2]\n",
    "    point_24 = the_axis_list_ori_1[3]\n",
    "    the_look_at_center = (point_23+point_24)/2\n",
    "    the_look_at_up = ((point_11 + point_12)/2 - the_look_at_center)\n",
    "    the_look_at_up_no = np.linalg.norm(the_look_at_up)\n",
    "    the_look_at_up = the_look_at_up/the_look_at_up_no\n",
    "    the_look_at_right = point_24 - point_23\n",
    "    the_look_at_right_no = np.linalg.norm(the_look_at_right)\n",
    "    the_look_at_right = the_look_at_right/the_look_at_right_no\n",
    "    the_look_at_z = np.cross(the_look_at_up,the_look_at_right)\n",
    "    the_look_at_z_no = np.linalg.norm(the_look_at_z)\n",
    "    the_look_at_z = the_look_at_z/the_look_at_z_no\n",
    "    the_look_at_z = the_look_at_z*0.1\n",
    "    lookat_x = the_look_at_right/ np.sqrt(the_look_at_right.dot(the_look_at_right))\n",
    "    lookat_y = the_look_at_up/ np.sqrt(the_look_at_up.dot(the_look_at_up))\n",
    "    lookat_z = the_look_at_z\n",
    "    rot_mat = np.r_[lookat_x.reshape((1,3)),lookat_y.reshape((1,3)),\n",
    "               lookat_z.reshape((1,3))]\n",
    "    v = - rot_mat.dot(the_look_at_z)\n",
    "    look_mat = np.array([\n",
    "    [rot_mat[0,0],rot_mat[0,1],rot_mat[0,2],v[0]],\n",
    "    [rot_mat[1,0],rot_mat[1,1],rot_mat[1,2],v[1]],\n",
    "    [rot_mat[2,0],rot_mat[2,1],rot_mat[2,2],v[2]],\n",
    "    [0,0,0,1]])\n",
    "    return look_mat"
   ]
  },
  {
   "cell_type": "markdown",
   "id": "389a8b22",
   "metadata": {},
   "source": [
    "## 计算物体近似中心\n",
    "* 这里的坐标点包括三层，最中心层权重为1，第二层权重为0.9，最外层权重为0.8"
   ]
  },
  {
   "cell_type": "code",
   "execution_count": null,
   "id": "15b34409",
   "metadata": {},
   "outputs": [],
   "source": [
    "def cal_center(point_list):\n",
    "    list1 = point_list.copy()\n",
    "    the_list = np.array(list1)\n",
    "    a = (the_list[6] + the_list[9] + the_list[0] + the_list[3])/4\n",
    "    b = (the_list[1] + the_list[4] + the_list[7] + the_list[10])*0.9/4\n",
    "    c = (the_list[2] + the_list[5] + the_list[8] + the_list[11]) * 0.8/4\n",
    "    d = (a+b)/2\n",
    "    center_x = 0.5\n",
    "    center_y = 0.5\n",
    "    cal_x = center_x-d[0]\n",
    "    cal_y = center_y-d[1]\n",
    "    for i in range(0,13):\n",
    "        the_list[i][0] = the_list[i][0] +cal_x\n",
    "        the_list[i][1] = the_list[i][1] + cal_y\n",
    "    the_list.tolist\n",
    "    return the_list"
   ]
  }
 ],
 "metadata": {
  "kernelspec": {
   "display_name": "Python [conda env:py38] *",
   "language": "python",
   "name": "conda-env-py38-py"
  },
  "language_info": {
   "codemirror_mode": {
    "name": "ipython",
    "version": 3
   },
   "file_extension": ".py",
   "mimetype": "text/x-python",
   "name": "python",
   "nbconvert_exporter": "python",
   "pygments_lexer": "ipython3",
   "version": "3.8.13"
  }
 },
 "nbformat": 4,
 "nbformat_minor": 5
}
